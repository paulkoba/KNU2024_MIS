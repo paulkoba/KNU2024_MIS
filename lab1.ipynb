{
 "cells": [
  {
   "cell_type": "code",
   "execution_count": 2,
   "id": "a87a8c93-6d1c-4adf-8289-45c064beebd9",
   "metadata": {},
   "outputs": [
    {
     "data": {
      "text/html": [
       "\n",
       "<svg xmlns=\"http://www.w3.org/2000/svg\" width=\"1000\" height=\"600\" viewBox=\"0 0 100 60\">\n",
       "\t<title>Flag of Guyana</title>\n",
       "\t<defs>\n",
       "\t\t<clipPath id=\"w\">\n",
       "\t\t\t<path d=\"m0 0 100 30L0 60z\"/>\n",
       "\t\t</clipPath>\n",
       "\t\t<clipPath id=\"b\">\n",
       "\t\t\t<path d=\"m0 0 50 30L0 60z\"/>\n",
       "\t\t</clipPath>\n",
       "\t</defs>\n",
       "\t<path fill=\"#2A936A\" d=\"m0 0h100v60H0z\"/>\n",
       "\t<path clip-path=\"url(#w)\" fill=\"#FFC20E\" stroke=\"#fff\" stroke-width=\"4\" d=\"m0 0 100 30L0 60\"/>\n",
       "\t<path clip-path=\"url(#b)\" fill=\"#BE1E2D\" stroke=\"#000\" stroke-width=\"4\" d=\"m0 0 50 30L0 60\"/>\n",
       "</svg>\n"
      ],
      "text/plain": [
       "<IPython.core.display.HTML object>"
      ]
     },
     "metadata": {},
     "output_type": "display_data"
    }
   ],
   "source": [
    "%%HTML\n",
    "\n",
    "<svg xmlns=\"http://www.w3.org/2000/svg\" width=\"1000\" height=\"600\" viewBox=\"0 0 100 60\">\n",
    "\t<title>Flag of Guyana</title>\n",
    "\t<defs>\n",
    "\t\t<clipPath id=\"w\">\n",
    "\t\t\t<path d=\"m0 0 100 30L0 60z\"/>\n",
    "\t\t</clipPath>\n",
    "\t\t<clipPath id=\"b\">\n",
    "\t\t\t<path d=\"m0 0 50 30L0 60z\"/>\n",
    "\t\t</clipPath>\n",
    "\t</defs>\n",
    "\t<path fill=\"#2A936A\" d=\"m0 0h100v60H0z\"/>\n",
    "\t<path clip-path=\"url(#w)\" fill=\"#FFC20E\" stroke=\"#fff\" stroke-width=\"4\" d=\"m0 0 100 30L0 60\"/>\n",
    "\t<path clip-path=\"url(#b)\" fill=\"#BE1E2D\" stroke=\"#000\" stroke-width=\"4\" d=\"m0 0 50 30L0 60\"/>\n",
    "</svg>"
   ]
  },
  {
   "cell_type": "markdown",
   "id": "defdeb9b-3173-4e3d-9b08-e5349900bbe5",
   "metadata": {},
   "source": [
    "# <span style=\"font-family:Comic Sans MS\"><font color='red'>Г</font><font color='blue'>а</font><font color='green'>й</font><font color=\"orange\">а</font><font color=\"purple\">н</font><font color=\"violet\">а</font></span>\n",
    "\n",
    "### <i>Основна інформація</i>\n",
    "\n",
    "| Характеристика | Значення |\n",
    "| :- | :- |\n",
    "| Площина | 214 км^2 |\n",
    "| Державний устрій | Парламентсько-президентська республіка |\n",
    "| Столиця | Джоржтаун |\n",
    "| Президент | Ірфаан Алі |\n",
    "\n",
    "<b><i>Видатні діячі</i></b>\n",
    "<ul>\n",
    "    <li>Чедвік Егглтон - перший президент Гайани після отримання незалежності у 1966 році.</li>\n",
    "    <li>Форбс Бернгам - політик, який очолював опозицію в Гайані та був президентом країни з 1985 по 1992 рік.</li>\n",
    "    <li>Е. В. Стені - письменник і поет, який вніс значний внесок у гайанську літературу.</li>\n",
    "    <li>В. О. Надж - видатний адвокат і правозахисник, який допоміг у створенні гайанської конституції.</li>\n",
    "</ul>\n",
    "\n",
    "<b><i>Пам'ятки культури та природи</i></b>\n",
    "<ul style=\"border: 1px solid black; padding: 30px;\">\n",
    "    <li>Національний парк Кайтума\n",
    "        <ul>\n",
    "            <li>Один з найбільших парків в світі</li>\n",
    "            <li>Відомий своєю різноманітною фауною та флорою</li>\n",
    "        </ul>\n",
    "    </li>\n",
    "    <li>Руїни Святого Джорджа\n",
    "        <ul>\n",
    "            <li>Залишки старого міста, заснованого голландцями у 18 столітті</li>\n",
    "        </ul>\n",
    "    </li>\n",
    "    <li>Печера Лільендаль\n",
    "        <ul>\n",
    "            <li>Відома своєю унікальною геологічною будовою та печерними живописами</li>\n",
    "        </ul>\n",
    "    </li>\n",
    "    <li>Меморіал Демерара\n",
    "        <ul>\n",
    "            <li>Пам'ятник, що вшановує пам'ять жертв Великого повстання рабів в Гайані в 1823 році</li>\n",
    "        </ul>\n",
    "    </li>\n",
    "</ul>\n",
    "<a href=\"https://upload.wikimedia.org/wikipedia/commons/thumb/2/20/Guyana_%28orthographic_projection%29.svg/250px-Guyana_%28orthographic_projection%29.svg.png\" target=\"_blank\">Стаття про Гайану у Вікіпедії</a>\n",
    "<img src=\"https://mil.in.ua/wp-content/uploads/2023/12/Venezuela-Guyana-Essequibo-dispute-1024x576.jpg\" alt>"
   ]
  },
  {
   "cell_type": "code",
   "execution_count": 3,
   "id": "fbcba37e-534c-445b-93e3-8c1be4eb7e89",
   "metadata": {},
   "outputs": [
    {
     "name": "stdin",
     "output_type": "stream",
     "text": [
      "Введіть список цілих чисел через пробіл:  7 3 1 7 4 2 8 2\n"
     ]
    },
    {
     "name": "stdout",
     "output_type": "stream",
     "text": [
      "(3, 4) - це середина\n"
     ]
    }
   ],
   "source": [
    "def task_3():\n",
    "    numbers = input(\"Введіть список цілих чисел через пробіл: \").split()\n",
    "    numbers = list(map(int, numbers))\n",
    "    sorted_numbers = sorted(numbers)\n",
    "    middle_index = len(sorted_numbers) // 2\n",
    "\n",
    "    if len(sorted_numbers) % 2 == 0:\n",
    "        middle_values = (sorted_numbers[middle_index - 1], sorted_numbers[middle_index])\n",
    "        print(f\"({middle_values[0]}, {middle_values[1]}) - це середина\")\n",
    "    else:\n",
    "        middle_value = sorted_numbers[middle_index]\n",
    "        print(f\"{middle_value} - це середина відсортованого списку\")\n",
    "        \n",
    "task_3()"
   ]
  },
  {
   "cell_type": "code",
   "execution_count": null,
   "id": "ec7dc2fb-ade2-4005-a6f1-fd46de7de2c5",
   "metadata": {},
   "outputs": [],
   "source": []
  },
  {
   "cell_type": "code",
   "execution_count": null,
   "id": "ae6c0ae3-f36d-4705-901f-4a7a39c3159c",
   "metadata": {},
   "outputs": [],
   "source": []
  },
  {
   "cell_type": "code",
   "execution_count": null,
   "id": "be856eb5-9043-4896-90ca-5fc28d9d9d78",
   "metadata": {},
   "outputs": [],
   "source": []
  }
 ],
 "metadata": {
  "kernelspec": {
   "display_name": "Python 3 (ipykernel)",
   "language": "python",
   "name": "python3"
  },
  "language_info": {
   "codemirror_mode": {
    "name": "ipython",
    "version": 3
   },
   "file_extension": ".py",
   "mimetype": "text/x-python",
   "name": "python",
   "nbconvert_exporter": "python",
   "pygments_lexer": "ipython3",
   "version": "3.11.8"
  }
 },
 "nbformat": 4,
 "nbformat_minor": 5
}
