{
 "cells": [
  {
   "cell_type": "markdown",
   "id": "831fa059-c443-4561-9c61-117127b84341",
   "metadata": {},
   "source": [
    " ### Завдання 1\n",
    "\n",
    "\\begin{equation}\n",
    "1, 3, 6, 7, 8, 11, 16, 18, 19\n",
    "\\end{equation}\n",
    "\n",
    "### Завдання 2\n",
    "\n",
    "\\begin{equation}\n",
    "\\begin{cases}\n",
    "x_1 + 2 x_2 + 3 x_3 + 4 x_4 = 5 \\\\\n",
    "2 x_1 + x_2 + 2 x_3 + 3 x_4 = 1 \\\\\n",
    "3 x_1 + 2 x_2 + x_3 + 2 x_4 = 1 \\\\\n",
    "4 x_1 + 3 x_2 + 2 x_3 + x_4 = -5 \\\\\n",
    "\\end{cases}\n",
    "\\end{equation}\n",
    "\n",
    "### Завдання 3\n",
    "\n",
    "\\begin{equation}\n",
    "2(A-B)(A^2 + B)\n",
    "\\end{equation}\n",
    ", де: \\begin{equation} A = \\begin{bmatrix}\n",
    "5 & 1 & 7 \\\\\n",
    "-10 & -2 & 1 \\\\\n",
    "0 & 1 & 2 \\\\\n",
    "\\end{bmatrix} \\end{equation}\n",
    "\n",
    "\\begin{equation} B = \\begin{bmatrix}\n",
    "2 & 4 & 1 \\\\\n",
    "3 & 1 & 0 \\\\\n",
    "7 & 2 & 1 \\\\\n",
    "\\end{bmatrix} \\end{equation}"
   ]
  },
  {
   "cell_type": "code",
   "execution_count": 29,
   "id": "d0376dbf-0408-4bd5-b2e8-e3aeb0ac0e9b",
   "metadata": {},
   "outputs": [],
   "source": [
    "import numpy as np\n",
    "\n",
    "def task_1_numpy():\n",
    "    n = int(input(\"Введіть число n: \"))\n",
    "    arr = np.zeros((n, n), dtype=int)\n",
    "    np.fill_diagonal(arr, range(1, n+1))\n",
    "    print(arr)\n",
    "\n",
    "def task_1_iterative():\n",
    "    n = int(input(\"Введіть число n: \"))\n",
    "    arr = [[0 for _ in range(n)] for _ in range(n)]\n",
    "    for i in range(n):\n",
    "        arr[i][i] = i + 1\n",
    "    print(arr)\n",
    "\n",
    "def task_3_numpy():\n",
    "    n, m, r, c = map(int, input(\"Введіть 4 числа через пробіл (n, m, r, c): \").split())\n",
    "    arr = np.ones((n, m), dtype=int)\n",
    "    arr[r - 1, :] = 0\n",
    "    arr[:, c - 1] = 0\n",
    "    print(arr)\n",
    "\n",
    "def task_3_iterative():\n",
    "    n, m, r, c = map(int, input(\"Введіть 4 числа через пробіл (n, m, r, c): \").split())\n",
    "    arr = [[1 for _ in range(m)] for _ in range(n)]\n",
    "    arr[r - 1] = [0] * m\n",
    "    for i in range(n):\n",
    "        arr[i][c - 1] = 0\n",
    "    print(arr)\n",
    "\n",
    "def task_6_numpy():\n",
    "    arr = np.array(input(\"Введіть масив чисел через пробіл: \").split(), dtype=int)\n",
    "    arr[arr != 0] = -1\n",
    "    print(arr)\n",
    "\n",
    "def task_6_iterative():\n",
    "    arr = list(map(int, input(\"Введіть масив чисел через пробіл: \").split()))\n",
    "    for i in range(len(arr)):\n",
    "        if arr[i] != 0:\n",
    "            arr[i] = -1\n",
    "    print(arr)\n",
    "\n",
    "def task_7_numpy():\n",
    "    arr = np.array(list(map(int, input(\"Введіть масив чисел через пробіл: \").split())))\n",
    "    arr[arr == 0] = -1\n",
    "    print(arr)\n",
    "\n",
    "def task_7_iterative():\n",
    "    arr = list(map(int, input(\"Введіть масив чисел через пробіл: \").split()))\n",
    "    for i in range(len(arr)):\n",
    "        if arr[i] == 0:\n",
    "            arr[i] = -1\n",
    "    print(arr)\n",
    "\n",
    "def task_8_numpy():\n",
    "    arr = np.array(input().split(), dtype=int)\n",
    "    zeros = np.count_nonzero(arr == 0)\n",
    "    non_zeros = np.count_nonzero(arr != 0)\n",
    "    print(f\"Нулів: {zeros}\\nНе нулів: {non_zeros}\")\n",
    "\n",
    "def task_8_iterative():\n",
    "    arr = list(map(int, input().split()))\n",
    "    zeros = 0\n",
    "    non_zeros = 0\n",
    "    for num in arr:\n",
    "        if num == 0:\n",
    "            zeros += 1\n",
    "        else:\n",
    "            non_zeros += 1\n",
    "    print(f\"Нулів: {zeros}\\nНе нулів: {non_zeros}\")\n",
    "\n",
    "def task_11_numpy():\n",
    "    n = int(input(\"Enter the size of the array: \")) + 2\n",
    "    arr = np.zeros((n, n), dtype=int)\n",
    "    arr[1:-1, 1:-1] = 1\n",
    "    print(arr)\n",
    "\n",
    "def task_11_iterative():\n",
    "    n = int(input(\"Enter the size of the array: \")) + 2\n",
    "    arr = [[0 for _ in range(n)] for _ in range(n)]\n",
    "    for i in range(1, n - 1):\n",
    "        for j in range(1, n - 1):\n",
    "            arr[i][j] = 1\n",
    "    for row in arr:\n",
    "        print(row)\n",
    "\n",
    "def task_16_numpy():\n",
    "    n = int(input())\n",
    "    arr = np.arange(n+1)\n",
    "    arr[(arr > n/4) & (arr < 3*n/4)] = 0\n",
    "    print(arr)\n",
    "\n",
    "def task_16_iterative():\n",
    "    n = int(input())\n",
    "    arr = []\n",
    "    for i in range(n+1):\n",
    "        if i > n/4 and i < 3*n/4:\n",
    "            arr.append(0)\n",
    "        else:\n",
    "            arr.append(i)\n",
    "    print(np.array(arr))\n",
    "\n",
    "def task_18_numpy():\n",
    "    n = int(input(\"Введіть кількість чисел у векторі: \"))\n",
    "    vector = np.random.randint(0, 100, n)\n",
    "    print(\"Згенерований вектор:\", vector)\n",
    "    unique_count = len(np.unique(vector))\n",
    "    print(\"Кількість унікальних чисел у векторі:\", unique_count)\n",
    "\n",
    "def task_18_iterative():\n",
    "    n = int(input(\"Введіть кількість чисел у векторі: \"))\n",
    "    vector = [np.random.randint(0, 100) for _ in range(n)]\n",
    "    print(\"Згенерований вектор:\", vector)\n",
    "    unique_count = len(set(vector))\n",
    "    print(\"Кількість унікальних чисел у векторі:\", unique_count)\n",
    "\n",
    "def task_19_numpy():\n",
    "    n = int(input(\"Введіть n: \")) + 1\n",
    "    vector = np.linspace(0, 1, n, endpoint=False)[1:]  # Generate the vector\n",
    "    print(np.around(vector, 3))  # Print the vector values rounded to 3 decimal places\n",
    "\n",
    "def task_19_iterative():\n",
    "    n = int(input(\"Введіть n: \")) + 1\n",
    "    interval_start = 0\n",
    "    interval_end = 1\n",
    "    step = (interval_end - interval_start) / n\n",
    "    vector = []\n",
    "    current = interval_start + step\n",
    "    while current < interval_end:\n",
    "        vector.append(round(current, 3))\n",
    "        current += step\n",
    "    print(vector)"
   ]
  },
  {
   "cell_type": "code",
   "execution_count": 34,
   "id": "203b574d-2757-4836-98ee-7630994808b7",
   "metadata": {},
   "outputs": [
    {
     "name": "stdin",
     "output_type": "stream",
     "text": [
      "Введіть число n:  10\n"
     ]
    },
    {
     "name": "stdout",
     "output_type": "stream",
     "text": [
      "[[ 1  0  0  0  0  0  0  0  0  0]\n",
      " [ 0  2  0  0  0  0  0  0  0  0]\n",
      " [ 0  0  3  0  0  0  0  0  0  0]\n",
      " [ 0  0  0  4  0  0  0  0  0  0]\n",
      " [ 0  0  0  0  5  0  0  0  0  0]\n",
      " [ 0  0  0  0  0  6  0  0  0  0]\n",
      " [ 0  0  0  0  0  0  7  0  0  0]\n",
      " [ 0  0  0  0  0  0  0  8  0  0]\n",
      " [ 0  0  0  0  0  0  0  0  9  0]\n",
      " [ 0  0  0  0  0  0  0  0  0 10]]\n"
     ]
    },
    {
     "name": "stdin",
     "output_type": "stream",
     "text": [
      "Введіть число n:  10\n"
     ]
    },
    {
     "name": "stdout",
     "output_type": "stream",
     "text": [
      "[[1, 0, 0, 0, 0, 0, 0, 0, 0, 0], [0, 2, 0, 0, 0, 0, 0, 0, 0, 0], [0, 0, 3, 0, 0, 0, 0, 0, 0, 0], [0, 0, 0, 4, 0, 0, 0, 0, 0, 0], [0, 0, 0, 0, 5, 0, 0, 0, 0, 0], [0, 0, 0, 0, 0, 6, 0, 0, 0, 0], [0, 0, 0, 0, 0, 0, 7, 0, 0, 0], [0, 0, 0, 0, 0, 0, 0, 8, 0, 0], [0, 0, 0, 0, 0, 0, 0, 0, 9, 0], [0, 0, 0, 0, 0, 0, 0, 0, 0, 10]]\n"
     ]
    },
    {
     "name": "stdin",
     "output_type": "stream",
     "text": [
      "Введіть 4 числа через пробіл (n, m, r, c):  6 7 2 3\n"
     ]
    },
    {
     "name": "stdout",
     "output_type": "stream",
     "text": [
      "[[1 1 0 1 1 1 1]\n",
      " [0 0 0 0 0 0 0]\n",
      " [1 1 0 1 1 1 1]\n",
      " [1 1 0 1 1 1 1]\n",
      " [1 1 0 1 1 1 1]\n",
      " [1 1 0 1 1 1 1]]\n"
     ]
    },
    {
     "name": "stdin",
     "output_type": "stream",
     "text": [
      "Введіть 4 числа через пробіл (n, m, r, c):  6 7 2 3\n"
     ]
    },
    {
     "name": "stdout",
     "output_type": "stream",
     "text": [
      "[[1, 1, 0, 1, 1, 1, 1], [0, 0, 0, 0, 0, 0, 0], [1, 1, 0, 1, 1, 1, 1], [1, 1, 0, 1, 1, 1, 1], [1, 1, 0, 1, 1, 1, 1], [1, 1, 0, 1, 1, 1, 1]]\n"
     ]
    },
    {
     "name": "stdin",
     "output_type": "stream",
     "text": [
      "Введіть масив чисел через пробіл:  3 4 0 9 7 0 6 0 4 0 3\n"
     ]
    },
    {
     "name": "stdout",
     "output_type": "stream",
     "text": [
      "[-1 -1  0 -1 -1  0 -1  0 -1  0 -1]\n"
     ]
    },
    {
     "name": "stdin",
     "output_type": "stream",
     "text": [
      "Введіть масив чисел через пробіл:  3 4 0 9 7 0 6 0 4 0 3\n"
     ]
    },
    {
     "name": "stdout",
     "output_type": "stream",
     "text": [
      "[-1, -1, 0, -1, -1, 0, -1, 0, -1, 0, -1]\n"
     ]
    },
    {
     "name": "stdin",
     "output_type": "stream",
     "text": [
      "Введіть масив чисел через пробіл:  3 4 0 6 5 0 3 0 4\n"
     ]
    },
    {
     "name": "stdout",
     "output_type": "stream",
     "text": [
      "[ 3  4 -1  6  5 -1  3 -1  4]\n"
     ]
    },
    {
     "name": "stdin",
     "output_type": "stream",
     "text": [
      "Введіть масив чисел через пробіл:  3 4 0 6 5 0 3 0 4\n"
     ]
    },
    {
     "name": "stdout",
     "output_type": "stream",
     "text": [
      "[3, 4, -1, 6, 5, -1, 3, -1, 4]\n"
     ]
    },
    {
     "name": "stdin",
     "output_type": "stream",
     "text": [
      " 3 4 0 9 8 2 4 0 8 4 0\n"
     ]
    },
    {
     "name": "stdout",
     "output_type": "stream",
     "text": [
      "Нулів: 3\n",
      "Не нулів: 8\n"
     ]
    },
    {
     "name": "stdin",
     "output_type": "stream",
     "text": [
      " 3 4 0 9 8 2 4 0 8 4 0\n"
     ]
    },
    {
     "name": "stdout",
     "output_type": "stream",
     "text": [
      "Нулів: 3\n",
      "Не нулів: 8\n"
     ]
    },
    {
     "name": "stdin",
     "output_type": "stream",
     "text": [
      "Enter the size of the array:  4\n"
     ]
    },
    {
     "name": "stdout",
     "output_type": "stream",
     "text": [
      "[[0 0 0 0 0 0]\n",
      " [0 1 1 1 1 0]\n",
      " [0 1 1 1 1 0]\n",
      " [0 1 1 1 1 0]\n",
      " [0 1 1 1 1 0]\n",
      " [0 0 0 0 0 0]]\n"
     ]
    },
    {
     "name": "stdin",
     "output_type": "stream",
     "text": [
      "Enter the size of the array:  4\n"
     ]
    },
    {
     "name": "stdout",
     "output_type": "stream",
     "text": [
      "[0, 0, 0, 0, 0, 0]\n",
      "[0, 1, 1, 1, 1, 0]\n",
      "[0, 1, 1, 1, 1, 0]\n",
      "[0, 1, 1, 1, 1, 0]\n",
      "[0, 1, 1, 1, 1, 0]\n",
      "[0, 0, 0, 0, 0, 0]\n"
     ]
    },
    {
     "name": "stdin",
     "output_type": "stream",
     "text": [
      " 10\n"
     ]
    },
    {
     "name": "stdout",
     "output_type": "stream",
     "text": [
      "[ 0  1  2  0  0  0  0  0  8  9 10]\n"
     ]
    },
    {
     "name": "stdin",
     "output_type": "stream",
     "text": [
      " 10\n"
     ]
    },
    {
     "name": "stdout",
     "output_type": "stream",
     "text": [
      "[ 0  1  2  0  0  0  0  0  8  9 10]\n"
     ]
    },
    {
     "name": "stdin",
     "output_type": "stream",
     "text": [
      "Введіть кількість чисел у векторі:  30\n"
     ]
    },
    {
     "name": "stdout",
     "output_type": "stream",
     "text": [
      "Згенерований вектор: [ 6 67 18 60 92  8 92 85 49 61 31 88 23 25 21 96  1 24  4 23  5 58 84 52\n",
      " 30 80 10 52 70 44]\n",
      "Кількість унікальних чисел у векторі: 27\n"
     ]
    },
    {
     "name": "stdin",
     "output_type": "stream",
     "text": [
      "Введіть кількість чисел у векторі:  30\n"
     ]
    },
    {
     "name": "stdout",
     "output_type": "stream",
     "text": [
      "Згенерований вектор: [79, 24, 9, 62, 6, 6, 2, 81, 97, 50, 26, 1, 10, 28, 9, 45, 3, 69, 8, 50, 83, 31, 77, 88, 28, 85, 65, 99, 97, 57]\n",
      "Кількість унікальних чисел у векторі: 25\n"
     ]
    },
    {
     "name": "stdin",
     "output_type": "stream",
     "text": [
      "Введіть n:  10\n"
     ]
    },
    {
     "name": "stdout",
     "output_type": "stream",
     "text": [
      "[0.091 0.182 0.273 0.364 0.455 0.545 0.636 0.727 0.818 0.909]\n"
     ]
    },
    {
     "name": "stdin",
     "output_type": "stream",
     "text": [
      "Введіть n:  10\n"
     ]
    },
    {
     "name": "stdout",
     "output_type": "stream",
     "text": [
      "[0.091, 0.182, 0.273, 0.364, 0.455, 0.545, 0.636, 0.727, 0.818, 0.909]\n"
     ]
    }
   ],
   "source": [
    "tasks = [\n",
    "    task_1_numpy, task_1_iterative,\n",
    "    task_3_numpy, task_3_iterative,\n",
    "    task_6_numpy, task_6_iterative,\n",
    "    task_7_numpy, task_7_iterative,\n",
    "    task_8_numpy, task_8_iterative,\n",
    "    task_11_numpy, task_11_iterative,\n",
    "    task_16_numpy, task_16_iterative,\n",
    "    task_18_numpy, task_18_iterative,\n",
    "    task_19_numpy, task_19_iterative\n",
    "]\n",
    "\n",
    "for task in tasks:\n",
    "    task()"
   ]
  },
  {
   "cell_type": "code",
   "execution_count": 36,
   "id": "9d8d233a-aca4-43c8-b6e0-c24cc4ac0a66",
   "metadata": {},
   "outputs": [
    {
     "name": "stdout",
     "output_type": "stream",
     "text": [
      "Cramer's Rule: [-2.0000000000000004, 2.0000000000000027, -3.0, 3.0]\n",
      "Matrix Multiplication: [-2.  2. -3.  3.]\n",
      "Inverse Matrix: [-2.  2. -3.  3.]\n",
      "Numpy Solve: [-2.  2. -3.  3.]\n",
      "All close: True\n",
      "All close: True\n",
      "All close: True\n"
     ]
    }
   ],
   "source": [
    "A = np.array([[1, 2, 3, 4],\n",
    "              [2, 1, 2, 3],\n",
    "              [3, 2, 1, 2],\n",
    "              [4, 3, 2, 1]])\n",
    "\n",
    "B = np.array([5, 1, 1, -5])\n",
    "\n",
    "# Calculate the determinant of matrix A\n",
    "det_A = np.linalg.det(A)\n",
    "\n",
    "# Initialize lists to store solutions\n",
    "solutions_cramer = []\n",
    "solutions_matrix_multiplication = []\n",
    "solutions_inverse_matrix = []\n",
    "solutions_linalg_solve = []\n",
    "\n",
    "# Calculate solutions using Cramer's rule\n",
    "for i in range(A.shape[1]):\n",
    "    Ai = A.copy()\n",
    "    Ai[:, i] = B\n",
    "    solutions_cramer.append(np.linalg.det(Ai) / det_A)\n",
    "\n",
    "# Calculate solutions using matrix multiplication\n",
    "solutions_matrix_multiplication = np.linalg.inv(A) @ B\n",
    "\n",
    "# Calculate solutions using the inverse matrix\n",
    "solutions_inverse_matrix = np.linalg.inv(A) @ B\n",
    "\n",
    "# Calculate solutions using numpy.linalg.solve()\n",
    "solutions_linalg_solve = np.linalg.solve(A, B)\n",
    "\n",
    "# Compare solutions\n",
    "print(\"Cramer's Rule:\", solutions_cramer)\n",
    "print(\"Matrix Multiplication:\", solutions_matrix_multiplication)\n",
    "print(\"Inverse Matrix:\", solutions_inverse_matrix)\n",
    "print(\"Numpy Solve:\", solutions_linalg_solve)\n",
    "\n",
    "# Check if all solutions are close\n",
    "print(\"All close:\", np.allclose(solutions_cramer, solutions_matrix_multiplication, rtol=1e-05, atol=1e-08))\n",
    "print(\"All close:\", np.allclose(solutions_cramer, solutions_inverse_matrix, rtol=1e-05, atol=1e-08))\n",
    "print(\"All close:\", np.allclose(solutions_cramer, solutions_linalg_solve, rtol=1e-05, atol=1e-08))"
   ]
  },
  {
   "cell_type": "code",
   "execution_count": 4,
   "id": "5e1a8f6f-a472-4df9-b301-e0e11f2ce314",
   "metadata": {},
   "outputs": [
    {
     "name": "stdout",
     "output_type": "stream",
     "text": [
      "NumPy Result:\n",
      "[[ -372.    36.   354.]\n",
      " [-1306.  -154. -1296.]\n",
      " [ -570.   -74.  -692.]]\n",
      "\n",
      "Iterative Result:\n",
      "[[ -372.    36.   354.]\n",
      " [-1306.  -154. -1296.]\n",
      " [ -570.   -74.  -692.]]\n",
      "\n",
      "Results are close: True\n",
      "\n",
      "NumPy Time: 0.0009999275207519531\n",
      "Iterative Time: 0.0\n"
     ]
    }
   ],
   "source": [
    "import time\n",
    "import numpy as np\n",
    "\n",
    "A = np.array([[5, 1, 7],\n",
    "              [-10, -2, 1],\n",
    "              [0, 1, 2]])\n",
    "\n",
    "B = np.array([[2, 4, 1],\n",
    "              [3, 1, 0],\n",
    "              [7, 2, 1]])\n",
    "\n",
    "# Using NumPy functions\n",
    "start_time = time.time()\n",
    "result_numpy = 2 * np.dot(A - B, np.dot(A**2 + B, np.eye(3)))\n",
    "numpy_time = time.time() - start_time\n",
    "\n",
    "# Using iterative constructions\n",
    "start_time = time.time()\n",
    "result_iterative = np.zeros((3, 3))\n",
    "for i in range(3):\n",
    "    for j in range(3):\n",
    "        for k in range(3):\n",
    "            for l in range(3):\n",
    "                result_iterative[i, j] += 2 * (A[i, k] - B[i, k]) * (A[k, l]**2 + B[k, l]) * np.eye(3)[l, j]\n",
    "iterative_time = time.time() - start_time\n",
    "\n",
    "# Compare results\n",
    "print(\"NumPy Result:\")\n",
    "print(result_numpy)\n",
    "print(\"\\nIterative Result:\")\n",
    "print(result_iterative)\n",
    "\n",
    "# Compare the results using numpy.allclose()\n",
    "print(\"\\nResults are close:\", np.allclose(result_numpy, result_iterative))\n",
    "\n",
    "# Print execution times\n",
    "print(\"\\nNumPy Time:\", numpy_time)\n",
    "print(\"Iterative Time:\", iterative_time)"
   ]
  },
  {
   "cell_type": "code",
   "execution_count": null,
   "id": "9abf8e3e-c894-423c-8ef2-3654a83274e4",
   "metadata": {},
   "outputs": [],
   "source": []
  },
  {
   "cell_type": "code",
   "execution_count": null,
   "id": "a8343ec8-6adb-487e-87c4-4a84db674a17",
   "metadata": {},
   "outputs": [],
   "source": []
  },
  {
   "cell_type": "code",
   "execution_count": null,
   "id": "49448d50-61f5-477c-b2c5-55f347302d16",
   "metadata": {},
   "outputs": [],
   "source": []
  }
 ],
 "metadata": {
  "kernelspec": {
   "display_name": "Python 3 (ipykernel)",
   "language": "python",
   "name": "python3"
  },
  "language_info": {
   "codemirror_mode": {
    "name": "ipython",
    "version": 3
   },
   "file_extension": ".py",
   "mimetype": "text/x-python",
   "name": "python",
   "nbconvert_exporter": "python",
   "pygments_lexer": "ipython3",
   "version": "3.11.8"
  }
 },
 "nbformat": 4,
 "nbformat_minor": 5
}
